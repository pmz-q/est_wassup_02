{
 "cells": [
  {
   "cell_type": "markdown",
   "metadata": {},
   "source": [
    "# User guide\n",
    "## 목적\n",
    "- 코드 활용법을 설명합니다.\n",
    "- config 설정법을 설명합니다.\n",
    "## Objective\n",
    "- Address the pipeline structure and explain the usage with sample codes.\n",
    "- Explain how to set up configs, used for running the pipeline."
   ]
  },
  {
   "cell_type": "markdown",
   "metadata": {},
   "source": [
    "----"
   ]
  },
  {
   "cell_type": "markdown",
   "metadata": {},
   "source": [
    "## 0. Environment setup\n",
    "- python version: `Python 3.9.12`\n",
    "#\n",
    "- 주요 pip 패키지 설치가 필요합니다.\n",
    "  - `cd est_wassup_02`\n",
    "  - `pip install -r requirements.txt`\n",
    "#\n",
    "- Installation of essential pip packages is required.\n",
    "  - `cd est_wassup_02`\n",
    "  - `pip install -r requirements.txt`"
   ]
  },
  {
   "cell_type": "markdown",
   "metadata": {},
   "source": [
    "----"
   ]
  },
  {
   "cell_type": "markdown",
   "metadata": {},
   "source": [
    "## 1. Data preparation\n",
    "## 1-1. Config setup\n",
    "kor\n",
    "- `est_wassup_02/preprocess.py` 를 이용하여 수행하는 경우,\n",
    "  - 아래의 파일 내용을 수정하여 설정할 수 있습니다.\n",
    "  - `est_wassup_02/configs/preprocess_config.py`\n",
    "- python function 을 불러와 수행하는 경우,\n",
    "  - 아래의 코드를 참고하시기 바랍니다.\n",
    "\n",
    "eng\n",
    "- when practicing data preparation by running the following script file - `est_wassup_02/preprocess.py`.\n",
    "  - config can be setup by adjusting contents of the file below.\n",
    "  - `est_wassup_02/configs/preprocess_config.py`\n",
    "- when practicing data preparation on jupyter notebook,\n",
    "  - please reference codes below. "
   ]
  },
  {
   "cell_type": "code",
   "execution_count": null,
   "metadata": {},
   "outputs": [],
   "source": [
    "ROOT_PATH = \"absolute path to est_wassup_02\"\n",
    "ROOT_PATH = \".\"\n",
    "\n",
    "config = {\n",
    "  # origin data path\n",
    "  \"input_data\": {\n",
    "    \"train_csv\": f\"{ROOT_PATH}/data/train.csv\",\n",
    "    \"test_csv\": f\"{ROOT_PATH}/data/test.csv\"\n",
    "  },\n",
    "  # save preprocess results\n",
    "  \"output_data\": {\n",
    "    \"train_csv\": f\"{ROOT_PATH}/features/train_X.csv\",\n",
    "    \"test_csv\": f\"{ROOT_PATH}/features/test_X.csv\",\n",
    "    \"y_scaler_save\": f\"{ROOT_PATH}/features/y_scaler.save\",\n",
    "  },\n",
    "  \"add_data\": {\n",
    "    \"train\": {\n",
    "      \"client\": f\"{ROOT_PATH}/data/train/client.csv\",\n",
    "      \"historical_weather\": f\"{ROOT_PATH}/data/train/historical_weather.csv\",\n",
    "      \"forecast_weather\": f\"{ROOT_PATH}/data/train/forecast_weather.csv\",\n",
    "      \"electricity_prices\": f\"{ROOT_PATH}/data/train/electricity_prices.csv\",\n",
    "      \"gas_prices\": f\"{ROOT_PATH}/data/train/gas_prices.csv\",\n",
    "    },\n",
    "    \"test\": {\n",
    "      \"client\": f\"{ROOT_PATH}/data/test/client.csv\",\n",
    "      \"historical_weather\": f\"{ROOT_PATH}/data/test/historical_weather.csv\",\n",
    "      \"forecast_weather\": f\"{ROOT_PATH}/data/test/forecast_weather.csv\",\n",
    "      \"electricity_prices\": f\"{ROOT_PATH}/data/test/electricity_prices.csv\",\n",
    "      \"gas_prices\": f\"{ROOT_PATH}/data/test/gas_prices.csv\",\n",
    "    },\n",
    "    \"county_mapper\": {\"county_mapper\": f\"{ROOT_PATH}/data/county_lon_lats.csv\"}\n",
    "  },\n",
    "  \"options\": {\n",
    "    # origin dataset\n",
    "    \"index_col\": \"datetime\",\n",
    "    \"tst_index_col\": \"prediction_datetime\",\n",
    "    \"target_col\": \"target\",\n",
    "    \"use_arima\": True, # whether to use \"target\" column only\n",
    "    \"row_query\": {\n",
    "      \"prediction_unit_id\": 0, # which prediction_unit_id to use\n",
    "      \"is_consumption\": 0 # whether the dataset is for consumption data or production data\n",
    "    },\n",
    "    \"use_drop_cols\": True, # whether to use drop_cols or use_cols. DO NOT ADJUST THE VALUE.\n",
    "    \"drop_cols\": [], # columns to drop. DO NOT ADJUST THE VALUE.\n",
    "    \"use_cols\": [\"currently_scored\"], # unused column. DO NOT ADJUST THE VALUE.,\n",
    "    # custom dataset\n",
    "    \"drop_cols_after_merge\": DROP_COLS_AFTER_MERGE,\n",
    "    \"fill_num_strategy\": FILL_NUM_STRATEGY,\n",
    "    \"x_scaler\": SELECTED_X_SCALER,\n",
    "    \"y_scaler\": SELECTED_Y_SCALER,\n",
    "  },\n",
    "}"
   ]
  }
 ],
 "metadata": {
  "language_info": {
   "name": "python"
  }
 },
 "nbformat": 4,
 "nbformat_minor": 2
}
